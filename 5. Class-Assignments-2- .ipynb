{
 "cells": [
  {
   "cell_type": "code",
   "execution_count": 5,
   "id": "de6dcdf1",
   "metadata": {},
   "outputs": [],
   "source": [
    "from Finalclass import Finalclass"
   ]
  },
  {
   "cell_type": "code",
   "execution_count": 2,
   "id": "41fb1e91",
   "metadata": {},
   "outputs": [
    {
     "name": "stdout",
     "output_type": "stream",
     "text": [
      "Sub-fields in AI are:\n",
      "Machine Learning\n",
      "Neural Networks\n",
      "Vision\n",
      "Robotics\n",
      "Speech processing\n",
      "Natural Language Processing\n"
     ]
    }
   ],
   "source": [
    "Finalclass.Subfields()"
   ]
  },
  {
   "cell_type": "code",
   "execution_count": 3,
   "id": "fc7c0496",
   "metadata": {},
   "outputs": [
    {
     "name": "stdout",
     "output_type": "stream",
     "text": [
      "enter a number:52452\n",
      "52452 is Even number\n"
     ]
    }
   ],
   "source": [
    "Finalclass.oddeven()"
   ]
  },
  {
   "cell_type": "code",
   "execution_count": 6,
   "id": "4ffcc6e9",
   "metadata": {},
   "outputs": [
    {
     "name": "stdout",
     "output_type": "stream",
     "text": [
      "Your Gender: Male\n",
      "Your Age: 20\n",
      "NOT ELIGIBLE\n"
     ]
    }
   ],
   "source": [
    "Finalclass.Eligeble()"
   ]
  },
  {
   "cell_type": "code",
   "execution_count": 5,
   "id": "59616427",
   "metadata": {},
   "outputs": [
    {
     "name": "stdout",
     "output_type": "stream",
     "text": [
      "Subject1= 98\n",
      "Subject2= 87\n",
      "Subject3= 95\n",
      "Subject4= 95\n",
      "Subject5= 93\n",
      "Total = 468\n",
      "Percentage = 93.6\n"
     ]
    }
   ],
   "source": [
    "Finalclass.percentage()"
   ]
  },
  {
   "cell_type": "code",
   "execution_count": 8,
   "id": "ea6a936b",
   "metadata": {},
   "outputs": [
    {
     "name": "stdout",
     "output_type": "stream",
     "text": [
      "Height: 32\n",
      "Breadth: 34\n",
      "Area formula: (Height*Breadth)/2\n",
      "Area of Triangle: 544.0\n",
      "Height1: 2\n",
      "Height2: 4\n",
      "Breadth: 4\n",
      "Perimeter formula: Height1+Height2+Breadth\n",
      "Perimeter of Triangle: 10\n"
     ]
    }
   ],
   "source": [
    "Finalclass.triangle()"
   ]
  },
  {
   "cell_type": "code",
   "execution_count": null,
   "id": "0fae71e1",
   "metadata": {},
   "outputs": [],
   "source": []
  }
 ],
 "metadata": {
  "kernelspec": {
   "display_name": "Python 3 (ipykernel)",
   "language": "python",
   "name": "python3"
  },
  "language_info": {
   "codemirror_mode": {
    "name": "ipython",
    "version": 3
   },
   "file_extension": ".py",
   "mimetype": "text/x-python",
   "name": "python",
   "nbconvert_exporter": "python",
   "pygments_lexer": "ipython3",
   "version": "3.11.5"
  }
 },
 "nbformat": 4,
 "nbformat_minor": 5
}
