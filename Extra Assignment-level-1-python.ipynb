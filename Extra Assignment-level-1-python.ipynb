{
 "cells": [
  {
   "cell_type": "code",
   "execution_count": 1,
   "id": "1575ec32",
   "metadata": {},
   "outputs": [
    {
     "name": "stdout",
     "output_type": "stream",
     "text": [
      "HOPE AI\n"
     ]
    }
   ],
   "source": [
    "#print statement\n",
    "print('HOPE AI')"
   ]
  },
  {
   "cell_type": "code",
   "execution_count": 4,
   "id": "e25ed143",
   "metadata": {},
   "outputs": [
    {
     "name": "stdout",
     "output_type": "stream",
     "text": [
      "Enter your institute name?: HOPE AI\n"
     ]
    }
   ],
   "source": [
    "#Buy input\n",
    "name=input('Enter your institute name?: ')"
   ]
  },
  {
   "cell_type": "code",
   "execution_count": 5,
   "id": "0f5a5170",
   "metadata": {},
   "outputs": [
    {
     "name": "stdout",
     "output_type": "stream",
     "text": [
      "Enter your name: Raj\n",
      "Enter your age: 15\n",
      "Enter your school name: Guru school\n",
      "Enter your degree: B.E CSE\n"
     ]
    }
   ],
   "source": [
    "#Buy inputs\n",
    "name=input('Enter your name: ')\n",
    "age=input('Enter your age: ')\n",
    "school=input('Enter your school name: ')\n",
    "degree=input('Enter your degree: ')"
   ]
  },
  {
   "cell_type": "code",
   "execution_count": 7,
   "id": "780ab93a",
   "metadata": {},
   "outputs": [
    {
     "name": "stdout",
     "output_type": "stream",
     "text": [
      "a= 43\n",
      "b= 34\n",
      "add= 77\n"
     ]
    }
   ],
   "source": [
    "#Addition\n",
    "a=43\n",
    "b=34\n",
    "add=a+b\n",
    "print('a=',a)\n",
    "print('b=',b)\n",
    "print('add=',add)"
   ]
  },
  {
   "cell_type": "code",
   "execution_count": 8,
   "id": "7fb479d1",
   "metadata": {},
   "outputs": [
    {
     "name": "stdout",
     "output_type": "stream",
     "text": [
      "a= 43\n",
      "b= 34\n",
      "sub= 9\n"
     ]
    }
   ],
   "source": [
    "#subtraction\n",
    "a=43\n",
    "b=34\n",
    "sub=a-b\n",
    "print('a=',a)\n",
    "print('b=',b)\n",
    "print('sub=',sub)"
   ]
  },
  {
   "cell_type": "code",
   "execution_count": 9,
   "id": "08e33e9a",
   "metadata": {},
   "outputs": [
    {
     "name": "stdout",
     "output_type": "stream",
     "text": [
      "a= 63\n",
      "b= 97\n",
      "mul= 6111\n"
     ]
    }
   ],
   "source": [
    "#Multiplication\n",
    "a=63\n",
    "b=97\n",
    "mul=a*b\n",
    "print('a=',a)\n",
    "print('b=',b)\n",
    "print('mul=',mul)"
   ]
  },
  {
   "cell_type": "code",
   "execution_count": 15,
   "id": "0f48a1df",
   "metadata": {},
   "outputs": [
    {
     "name": "stdout",
     "output_type": "stream",
     "text": [
      "a= 76\n",
      "b= 31\n",
      "float div= 2.4516129032258065\n"
     ]
    }
   ],
   "source": [
    "#Division\n",
    "a=76\n",
    "b=31\n",
    "float_div=a/b\n",
    "print('a=',a)\n",
    "print('b=',b)\n",
    "print('float div=',float_div)"
   ]
  },
  {
   "cell_type": "code",
   "execution_count": 14,
   "id": "87558db7",
   "metadata": {},
   "outputs": [
    {
     "name": "stdout",
     "output_type": "stream",
     "text": [
      "a= 76\n",
      "b= 31\n",
      "floor div= 2\n"
     ]
    }
   ],
   "source": [
    "#Floor division\n",
    "a=76\n",
    "b=31\n",
    "floor_div=a//b\n",
    "print('a=',a)\n",
    "print('b=',b)\n",
    "print('floor div=',floor_div)"
   ]
  },
  {
   "cell_type": "code",
   "execution_count": 17,
   "id": "5e6a7cb4",
   "metadata": {},
   "outputs": [
    {
     "name": "stdout",
     "output_type": "stream",
     "text": [
      "a= 76\n",
      "b= 31\n",
      "modulo= 14\n"
     ]
    }
   ],
   "source": [
    "#Modul0\n",
    "a=76\n",
    "b=31\n",
    "modulo=a%b\n",
    "print('a=',a)\n",
    "print('b=',b)\n",
    "print('modulo=',modulo)"
   ]
  },
  {
   "cell_type": "code",
   "execution_count": 19,
   "id": "85353c5b",
   "metadata": {},
   "outputs": [
    {
     "name": "stdout",
     "output_type": "stream",
     "text": [
      "a= 4\n",
      "b= 4\n",
      "power= 256\n"
     ]
    }
   ],
   "source": [
    "#Power\n",
    "a=4\n",
    "b=4\n",
    "power=pow(a,b)\n",
    "print('a=',a)\n",
    "print('b=',b)\n",
    "print('power=',power)"
   ]
  },
  {
   "cell_type": "code",
   "execution_count": null,
   "id": "b44dfa19",
   "metadata": {},
   "outputs": [],
   "source": []
  }
 ],
 "metadata": {
  "kernelspec": {
   "display_name": "Python 3 (ipykernel)",
   "language": "python",
   "name": "python3"
  },
  "language_info": {
   "codemirror_mode": {
    "name": "ipython",
    "version": 3
   },
   "file_extension": ".py",
   "mimetype": "text/x-python",
   "name": "python",
   "nbconvert_exporter": "python",
   "pygments_lexer": "ipython3",
   "version": "3.11.5"
  }
 },
 "nbformat": 4,
 "nbformat_minor": 5
}
