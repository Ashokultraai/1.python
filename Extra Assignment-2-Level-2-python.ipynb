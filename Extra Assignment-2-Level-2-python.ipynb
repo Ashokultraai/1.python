{
 "cells": [
  {
   "cell_type": "code",
   "execution_count": 2,
   "id": "8a559f6a",
   "metadata": {},
   "outputs": [
    {
     "name": "stdout",
     "output_type": "stream",
     "text": [
      "0\n",
      "1\n",
      "2\n",
      "3\n",
      "4\n",
      "5\n",
      "6\n",
      "7\n",
      "8\n",
      "9\n",
      "10\n",
      "11\n",
      "12\n",
      "13\n",
      "14\n",
      "15\n",
      "16\n",
      "17\n",
      "18\n",
      "19\n",
      "20\n"
     ]
    }
   ],
   "source": [
    "#print 0 to 20 by using range\n",
    "for i in range(0,21):\n",
    "    print (i)"
   ]
  },
  {
   "cell_type": "code",
   "execution_count": 6,
   "id": "f5110b2f",
   "metadata": {},
   "outputs": [
    {
     "name": "stdout",
     "output_type": "stream",
     "text": [
      "10 11 12 13 14 15 16 17 18 19 20 "
     ]
    }
   ],
   "source": [
    "#Print range of 10 to 20 \n",
    "for i in range(10,21):\n",
    "    print(i, end=' ')"
   ]
  },
  {
   "cell_type": "code",
   "execution_count": 11,
   "id": "ffab7821",
   "metadata": {},
   "outputs": [
    {
     "name": "stdout",
     "output_type": "stream",
     "text": [
      "[10, 20, 14, 55, 43, 87, 76]\n",
      "Number of items in the list2: 7\n"
     ]
    }
   ],
   "source": [
    "#print number of items in list by using 'len'\n",
    "list2=[10,20,14,55,43,87,76]\n",
    "length=len(list2)\n",
    "print(list2)\n",
    "print('Number of items in the list2:',length)"
   ]
  },
  {
   "cell_type": "code",
   "execution_count": 15,
   "id": "322746ec",
   "metadata": {},
   "outputs": [
    {
     "name": "stdout",
     "output_type": "stream",
     "text": [
      "ARTIFICIAL INTELLIGENCE\n",
      "A\n",
      "R\n",
      "T\n",
      "I\n",
      "F\n",
      "I\n",
      "C\n",
      "I\n",
      "A\n",
      "L\n",
      " \n",
      "I\n",
      "N\n",
      "T\n",
      "E\n",
      "L\n",
      "L\n",
      "I\n",
      "G\n",
      "E\n",
      "N\n",
      "C\n",
      "E\n"
     ]
    }
   ],
   "source": [
    "AI=\"ARTIFICIAL INTELLIGENCE\"\n",
    "print(AI)\n",
    "for i in AI:\n",
    "    print(i)"
   ]
  },
  {
   "cell_type": "code",
   "execution_count": 16,
   "id": "c9c58e55",
   "metadata": {},
   "outputs": [
    {
     "name": "stdout",
     "output_type": "stream",
     "text": [
      "-Your name-\n",
      "-Your age-\n",
      "-Your Profession-\n"
     ]
    }
   ],
   "source": [
    "print('-Your name-')\n",
    "print('-Your age-')\n",
    "print('-Your Profession-')"
   ]
  },
  {
   "cell_type": "code",
   "execution_count": 17,
   "id": "5720abb7",
   "metadata": {},
   "outputs": [
    {
     "name": "stdout",
     "output_type": "stream",
     "text": [
      "(1, 'Welcome', 2, 'Hope')\n"
     ]
    }
   ],
   "source": [
    "tuple1=(1,'Welcome',2,'Hope')\n",
    "print(tuple1)"
   ]
  },
  {
   "cell_type": "code",
   "execution_count": 18,
   "id": "712e2e0b",
   "metadata": {},
   "outputs": [
    {
     "data": {
      "text/plain": [
       "((0, 1, 2, 3), ('python', 'Hope'))"
      ]
     },
     "execution_count": 18,
     "metadata": {},
     "output_type": "execute_result"
    }
   ],
   "source": [
    "tuple1=(0,1,2,3)\n",
    "tuple2=('python','Hope')\n",
    "tuple3=(tuple1,tuple2)\n",
    "tuple3"
   ]
  },
  {
   "cell_type": "code",
   "execution_count": 24,
   "id": "18634e21",
   "metadata": {},
   "outputs": [
    {
     "name": "stdout",
     "output_type": "stream",
     "text": [
      "[20, 10, 16, 19, 25, 1, 276, 188]\n",
      "19 is odd\n",
      "25 is odd\n",
      "1 is odd\n"
     ]
    }
   ],
   "source": [
    "#Print odd numbers in the list\n",
    "num=[20,10,16,19,25,1,276,188]\n",
    "print(num)\n",
    "for i in num:\n",
    "    if i%2!=0:\n",
    "        print(i,'is odd')"
   ]
  },
  {
   "cell_type": "code",
   "execution_count": 25,
   "id": "a183b169",
   "metadata": {},
   "outputs": [
    {
     "name": "stdout",
     "output_type": "stream",
     "text": [
      "[20, 10, 16, 19, 25, 1, 276, 188]\n",
      "20 is even\n",
      "10 is even\n",
      "16 is even\n",
      "276 is even\n",
      "188 is even\n"
     ]
    }
   ],
   "source": [
    "#Print even numbers in the list\n",
    "num=[20,10,16,19,25,1,276,188]\n",
    "print(num)\n",
    "for i in num:\n",
    "    if i%2==0:\n",
    "        print(i,'is even')"
   ]
  },
  {
   "cell_type": "code",
   "execution_count": null,
   "id": "9704b7eb",
   "metadata": {},
   "outputs": [],
   "source": []
  }
 ],
 "metadata": {
  "kernelspec": {
   "display_name": "Python 3 (ipykernel)",
   "language": "python",
   "name": "python3"
  },
  "language_info": {
   "codemirror_mode": {
    "name": "ipython",
    "version": 3
   },
   "file_extension": ".py",
   "mimetype": "text/x-python",
   "name": "python",
   "nbconvert_exporter": "python",
   "pygments_lexer": "ipython3",
   "version": "3.11.5"
  }
 },
 "nbformat": 4,
 "nbformat_minor": 5
}
