{
 "cells": [
  {
   "cell_type": "code",
   "execution_count": 6,
   "id": "8109d880",
   "metadata": {},
   "outputs": [],
   "source": [
    "#Create a class and function, and list out the items in the list\n",
    "class SubfieldsInAI():\n",
    "    def Subfields():\n",
    "        sub = 'Sub-fields in AI are:\\nMachine Learning\\nNeural Networks\\nVision\\nRobotics\\nSpeech Processing\\nNatural Language Processing'\n",
    "        print(sub)"
   ]
  },
  {
   "cell_type": "code",
   "execution_count": 7,
   "id": "7e53af2b",
   "metadata": {},
   "outputs": [
    {
     "name": "stdout",
     "output_type": "stream",
     "text": [
      "Sub-fields in AI are:\n",
      "Machine Learning\n",
      "Neural Networks\n",
      "Vision\n",
      "Robotics\n",
      "Speech Processing\n",
      "Natural Language Processing\n"
     ]
    }
   ],
   "source": [
    "SubfieldsInAI.Subfields()"
   ]
  },
  {
   "cell_type": "code",
   "execution_count": 11,
   "id": "bef37dcb",
   "metadata": {},
   "outputs": [],
   "source": [
    "# Create a function that checks whether the given number is Odd or Even\n",
    "class OddEven():\n",
    "    def oddeven():\n",
    "        num = int(input('enter a number:'))\n",
    "        if (num%2 ==0):\n",
    "            print(num,'is Even number')\n",
    "        else:\n",
    "            print(num,'is Odd number')"
   ]
  },
  {
   "cell_type": "code",
   "execution_count": 12,
   "id": "74968c7d",
   "metadata": {},
   "outputs": [
    {
     "name": "stdout",
     "output_type": "stream",
     "text": [
      "enter a number:52452\n",
      "52452 is Even number\n"
     ]
    }
   ],
   "source": [
    "OddEven.oddeven()"
   ]
  },
  {
   "cell_type": "code",
   "execution_count": 15,
   "id": "153d188b",
   "metadata": {},
   "outputs": [],
   "source": [
    "\"\"\"Create a function that tells elegibility of marriage for male and female according to their \n",
    "age limit like 21 for male and 18 for female\"\"\"\n",
    "class ElegiblityForMarriage():\n",
    "    def Eligeble():\n",
    "        gender=input('Your Gender: ')\n",
    "        age=int(input('Your Age: '))\n",
    "        if (gender=='Male' and age>21) or (gender=='Female' and age>18):\n",
    "                print('ELIGIBLE')\n",
    "        else:\n",
    "                print('NOT ELIGIBLE')       \n"
   ]
  },
  {
   "cell_type": "code",
   "execution_count": 16,
   "id": "3c255b27",
   "metadata": {},
   "outputs": [
    {
     "name": "stdout",
     "output_type": "stream",
     "text": [
      "Your Gender: Male\n",
      "Your Age: 20\n",
      "NOT ELIGIBLE\n"
     ]
    }
   ],
   "source": [
    "ElegiblityForMarriage.Eligeble()"
   ]
  },
  {
   "cell_type": "code",
   "execution_count": 19,
   "id": "279dcb26",
   "metadata": {},
   "outputs": [],
   "source": [
    "# calculate the percentage of your 10th mark\n",
    "class FindPercent():\n",
    "    def percentage():\n",
    "        Subject1=int(input('Subject1= '))\n",
    "        Subject2=int(input('Subject2= '))\n",
    "        Subject3=int(input('Subject3= '))\n",
    "        Subject4=int(input('Subject4= '))\n",
    "        Subject5=int(input('Subject5= '))\n",
    "        Total=Subject1+Subject2+Subject3+Subject4+Subject5\n",
    "        percentage=Total/5\n",
    "        print('Total =', Total)   \n",
    "        print('Percentage =', percentage)\n",
    "    "
   ]
  },
  {
   "cell_type": "code",
   "execution_count": 20,
   "id": "7f46aac5",
   "metadata": {},
   "outputs": [
    {
     "name": "stdout",
     "output_type": "stream",
     "text": [
      "Subject1= 98\n",
      "Subject2= 87\n",
      "Subject3= 95\n",
      "Subject4= 95\n",
      "Subject5= 93\n",
      "Total = 468\n",
      "Percentage = 93.6\n"
     ]
    }
   ],
   "source": [
    "FindPercent.percentage()"
   ]
  },
  {
   "cell_type": "code",
   "execution_count": 21,
   "id": "b3c6a498",
   "metadata": {},
   "outputs": [],
   "source": [
    "#print area and perimeter of triangle using functions\n",
    "class triangle():\n",
    "    def triangle():\n",
    "        Height=int(input('Height: '))\n",
    "        Breadth=int(input('Breadth: '))\n",
    "        print('Area formula: (Height*Breadth)/2')\n",
    "        Area_of_Triangle=(Height * Breadth)/2\n",
    "        print('Area of Triangle:',Area_of_Triangle)\n",
    "        Height1=int(input('Height1: '))\n",
    "        Height2=int(input('Height2: '))\n",
    "        Breadth1=int(input('Breadth: '))\n",
    "        print('Perimeter formula: Height1+Height2+Breadth')\n",
    "        Perimeter_of_Triangle=Height1+Height2+Breadth1\n",
    "        print('Perimeter of Triangle:',Perimeter_of_Triangle)\n",
    "        "
   ]
  },
  {
   "cell_type": "code",
   "execution_count": 22,
   "id": "43094e69",
   "metadata": {},
   "outputs": [
    {
     "name": "stdout",
     "output_type": "stream",
     "text": [
      "Height: 32\n",
      "Breadth: 34\n",
      "Area formula: (Height*Breadth)/2\n",
      "Area of Triangle: 544.0\n",
      "Height1: 2\n",
      "Height2: 4\n",
      "Breadth: 4\n",
      "Perimeter formula: Height1+Height2+Breadth\n",
      "Perimeter of Triangle: 10\n"
     ]
    }
   ],
   "source": [
    "triangle.triangle()"
   ]
  },
  {
   "cell_type": "code",
   "execution_count": null,
   "id": "a87d77de",
   "metadata": {},
   "outputs": [],
   "source": []
  }
 ],
 "metadata": {
  "kernelspec": {
   "display_name": "Python 3 (ipykernel)",
   "language": "python",
   "name": "python3"
  },
  "language_info": {
   "codemirror_mode": {
    "name": "ipython",
    "version": 3
   },
   "file_extension": ".py",
   "mimetype": "text/x-python",
   "name": "python",
   "nbconvert_exporter": "python",
   "pygments_lexer": "ipython3",
   "version": "3.11.5"
  }
 },
 "nbformat": 4,
 "nbformat_minor": 5
}
