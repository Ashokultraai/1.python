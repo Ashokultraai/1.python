{
 "cells": [
  {
   "cell_type": "code",
   "execution_count": 1,
   "id": "e47ef12c",
   "metadata": {},
   "outputs": [
    {
     "name": "stdout",
     "output_type": "stream",
     "text": [
      "Welcome to Assignement-1\n"
     ]
    }
   ],
   "source": [
    "print('Welcome to Assignement-1')"
   ]
  },
  {
   "cell_type": "code",
   "execution_count": 6,
   "id": "dd18c09d",
   "metadata": {},
   "outputs": [
    {
     "name": "stdout",
     "output_type": "stream",
     "text": [
      "Num1= 10\n",
      "Num2= 30\n",
      "Add= 40\n"
     ]
    }
   ],
   "source": [
    "num1=10\n",
    "num2=30\n",
    "Add=num1 + num2\n",
    "print('Num1=',num1)\n",
    "print('Num2=',num2)\n",
    "print('Add=',Add)"
   ]
  },
  {
   "cell_type": "code",
   "execution_count": 11,
   "id": "f01d9b9c",
   "metadata": {},
   "outputs": [
    {
     "name": "stdout",
     "output_type": "stream",
     "text": [
      "Enter the BMI Index: 34\n",
      "Very Overweight\n"
     ]
    }
   ],
   "source": [
    "BMI=int(input('Enter the BMI Index: '))\n",
    "if (BMI<18.5):\n",
    "    print('Underweight')\n",
    "elif(BMI<24.9):\n",
    "    print('Normal weight')\n",
    "elif(BMI<29.9):\n",
    "    print('Over weight')\n",
    "else:\n",
    "    print('Very Overweight')"
   ]
  },
  {
   "cell_type": "code",
   "execution_count": null,
   "id": "f3c5ed66",
   "metadata": {},
   "outputs": [],
   "source": []
  }
 ],
 "metadata": {
  "kernelspec": {
   "display_name": "Python 3 (ipykernel)",
   "language": "python",
   "name": "python3"
  },
  "language_info": {
   "codemirror_mode": {
    "name": "ipython",
    "version": 3
   },
   "file_extension": ".py",
   "mimetype": "text/x-python",
   "name": "python",
   "nbconvert_exporter": "python",
   "pygments_lexer": "ipython3",
   "version": "3.11.5"
  }
 },
 "nbformat": 4,
 "nbformat_minor": 5
}
